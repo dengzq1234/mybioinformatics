{
 "cells": [
  {
   "cell_type": "code",
   "execution_count": 1,
   "metadata": {
    "collapsed": true
   },
   "outputs": [],
   "source": [
    "import os"
   ]
  },
  {
   "cell_type": "code",
   "execution_count": 28,
   "metadata": {},
   "outputs": [
    {
     "ename": "AttributeError",
     "evalue": "'str' object has no attribute 'remove'",
     "output_type": "error",
     "traceback": [
      "\u001b[0;31m---------------------------------------------------------------------------\u001b[0m",
      "\u001b[0;31mAttributeError\u001b[0m                            Traceback (most recent call last)",
      "\u001b[0;32m<ipython-input-28-acf3cedd3ae6>\u001b[0m in \u001b[0;36m<module>\u001b[0;34m()\u001b[0m\n\u001b[1;32m      1\u001b[0m \u001b[0;32mwith\u001b[0m \u001b[0mopen\u001b[0m\u001b[0;34m(\u001b[0m\u001b[0;34m'rosalind_dna.txt'\u001b[0m\u001b[0;34m)\u001b[0m \u001b[0;32mas\u001b[0m \u001b[0mf\u001b[0m\u001b[0;34m:\u001b[0m\u001b[0;34m\u001b[0m\u001b[0m\n\u001b[0;32m----> 2\u001b[0;31m     \u001b[0mtext\u001b[0m \u001b[0;34m=\u001b[0m \u001b[0mf\u001b[0m\u001b[0;34m.\u001b[0m\u001b[0mreadline\u001b[0m\u001b[0;34m(\u001b[0m\u001b[0;34m)\u001b[0m\u001b[0;34m[\u001b[0m\u001b[0;34m:\u001b[0m\u001b[0;34m-\u001b[0m\u001b[0;36m1\u001b[0m\u001b[0;34m]\u001b[0m\u001b[0;34m.\u001b[0m\u001b[0mremove\u001b[0m\u001b[0;34m(\u001b[0m\u001b[0;34m'\\n'\u001b[0m\u001b[0;34m)\u001b[0m\u001b[0;34m\u001b[0m\u001b[0m\n\u001b[0m",
      "\u001b[0;31mAttributeError\u001b[0m: 'str' object has no attribute 'remove'"
     ]
    }
   ],
   "source": [
    "with open('rosalind_dna.txt') as f:\n",
    "    text = f.readline()"
   ]
  },
  {
   "cell_type": "code",
   "execution_count": 27,
   "metadata": {},
   "outputs": [
    {
     "name": "stdout",
     "output_type": "stream",
     "text": [
      "{'A': 239, 'C': 222, 'G': 196, 'T': 234}\n"
     ]
    }
   ],
   "source": [
    "count_dict = {}\n",
    "for base in text:\n",
    "    if base in count_dict:\n",
    "        count_dict[base] +=1\n",
    "    else:\n",
    "        count_dict[base] =1\n",
    "print(count_dict)"
   ]
  },
  {
   "cell_type": "code",
   "execution_count": 29,
   "metadata": {
    "collapsed": true
   },
   "outputs": [],
   "source": [
    "def count_base(filename):\n",
    "    \n",
    "    with open(filename) as f:\n",
    "        text = f.readline()[:-1]\n",
    "    \n",
    "    count_dict = {}\n",
    "    for base in text:\n",
    "        if base in count_dict:\n",
    "            count_dict[base] += 1\n",
    "        else:\n",
    "            count_dict[base] = 1\n",
    "    return count_dict"
   ]
  },
  {
   "cell_type": "code",
   "execution_count": 30,
   "metadata": {},
   "outputs": [
    {
     "data": {
      "text/plain": [
       "{'A': 239, 'C': 222, 'G': 196, 'T': 234}"
      ]
     },
     "execution_count": 30,
     "metadata": {},
     "output_type": "execute_result"
    }
   ],
   "source": [
    "count_base('rosalind_dna.txt')"
   ]
  },
  {
   "cell_type": "code",
   "execution_count": null,
   "metadata": {
    "collapsed": true
   },
   "outputs": [],
   "source": []
  },
  {
   "cell_type": "code",
   "execution_count": 31,
   "metadata": {
    "collapsed": true
   },
   "outputs": [],
   "source": [
    "text = 'GATGGAACTTGACTACGTAAATT'"
   ]
  },
  {
   "cell_type": "code",
   "execution_count": 32,
   "metadata": {},
   "outputs": [
    {
     "name": "stdout",
     "output_type": "stream",
     "text": [
      "GAUGGAACUUGACUACGUAAAUU\n"
     ]
    }
   ],
   "source": [
    "rna = text.replace('T','U')\n",
    "print(rna)"
   ]
  },
  {
   "cell_type": "code",
   "execution_count": 33,
   "metadata": {},
   "outputs": [
    {
     "data": {
      "text/plain": [
       "True"
      ]
     },
     "execution_count": 33,
     "metadata": {},
     "output_type": "execute_result"
    }
   ],
   "source": [
    "sample = 'GAUGGAACUUGACUACGUAAAUU'\n",
    "rna == sample"
   ]
  },
  {
   "cell_type": "code",
   "execution_count": 34,
   "metadata": {
    "collapsed": true
   },
   "outputs": [],
   "source": [
    "match_dict = {'A':'T','T':'A','C':'G','G':'C'}"
   ]
  },
  {
   "cell_type": "code",
   "execution_count": 35,
   "metadata": {
    "collapsed": true
   },
   "outputs": [],
   "source": [
    "def reverse_complement(seq):\n",
    "    match_dict = {'A':'T','T':'A','C':'G','G':'C'}\n",
    "    reverse_seq = seq[::-1]\n",
    "    reverse_complement_seq = ''\n",
    "    for base in reverse_seq:\n",
    "        reverse_complement_seq += match_dict[base]\n",
    "    \n",
    "    print(reverse_complement_seq)\n",
    "    return reverse_complement_seq"
   ]
  },
  {
   "cell_type": "code",
   "execution_count": 36,
   "metadata": {},
   "outputs": [
    {
     "name": "stdout",
     "output_type": "stream",
     "text": [
      "ACCGGGTTTT\n"
     ]
    },
    {
     "data": {
      "text/plain": [
       "'ACCGGGTTTT'"
      ]
     },
     "execution_count": 36,
     "metadata": {},
     "output_type": "execute_result"
    }
   ],
   "source": [
    "reverse_complement('AAAACCCGGT')"
   ]
  },
  {
   "cell_type": "code",
   "execution_count": null,
   "metadata": {
    "collapsed": true
   },
   "outputs": [],
   "source": []
  },
  {
   "cell_type": "code",
   "execution_count": 45,
   "metadata": {
    "collapsed": true
   },
   "outputs": [],
   "source": [
    "def rabbit(months,pairs):\n",
    "    n = months\n",
    "    k = pairs\n",
    "    a = 1\n",
    "    b = 1\n",
    "    for i in range(3,n+1):\n",
    "        c = b\n",
    "        b = a*k + b\n",
    "        a = c\n",
    "    print(\"After {} months, {} pairs of rabbits will arrive {} pairs totally.\".format(months,pairs,b))\n",
    "    return b "
   ]
  },
  {
   "cell_type": "code",
   "execution_count": null,
   "metadata": {
    "collapsed": true
   },
   "outputs": [],
   "source": []
  },
  {
   "cell_type": "code",
   "execution_count": 40,
   "metadata": {
    "collapsed": true
   },
   "outputs": [],
   "source": [
    "def deadrabbit(months,age):\n",
    "    n = months\n",
    "    m = age\n",
    "    F = [0,1,1]\n",
    "    for i in range(3,n+1):\n",
    "        if i <= m:\n",
    "            total = F[i-1] + F[i-2]\n",
    "        elif i == m+1:\n",
    "            total = F[i-1] + F[i-2]-1\n",
    "        else:\n",
    "            total = F[i-1] + F[i-2] - F[i-m-1]\n",
    "        F.append(total)\n",
    "    print('{} pairs of rabbits that will remain after the {} month if all rabbits live for {} months'.format(F[n],n,m))\n",
    "    return(F[n])"
   ]
  },
  {
   "cell_type": "code",
   "execution_count": 41,
   "metadata": {},
   "outputs": [
    {
     "name": "stdout",
     "output_type": "stream",
     "text": [
      "255986189829394641 pairs of rabbits that will remain after the 85 month if all rabbits live for 16 months\n"
     ]
    },
    {
     "data": {
      "text/plain": [
       "255986189829394641"
      ]
     },
     "execution_count": 41,
     "metadata": {},
     "output_type": "execute_result"
    }
   ],
   "source": [
    "deadrabbit(85,16)"
   ]
  },
  {
   "cell_type": "code",
   "execution_count": 46,
   "metadata": {},
   "outputs": [
    {
     "name": "stdout",
     "output_type": "stream",
     "text": [
      "After 5 months, 3 pairs of rabbits will arrive 19 pairs totally.\n"
     ]
    },
    {
     "data": {
      "text/plain": [
       "19"
      ]
     },
     "execution_count": 46,
     "metadata": {},
     "output_type": "execute_result"
    }
   ],
   "source": [
    "rabbit(5,3)"
   ]
  },
  {
   "cell_type": "code",
   "execution_count": 4,
   "metadata": {},
   "outputs": [
    {
     "data": {
      "text/plain": [
       "range(3, 4)"
      ]
     },
     "execution_count": 4,
     "metadata": {},
     "output_type": "execute_result"
    }
   ],
   "source": [
    "range(3+1)[3:]"
   ]
  },
  {
   "cell_type": "code",
   "execution_count": 55,
   "metadata": {
    "collapsed": true
   },
   "outputs": [],
   "source": [
    "seq = 'CCACCCTCGTGGTATGGCTAGGCATTCAGGAACCGGAGAACGCTTCAGACCAGCCCGGACTGGGAACCTGCGGGCAGTAGGTGGAAT'"
   ]
  },
  {
   "cell_type": "code",
   "execution_count": 58,
   "metadata": {},
   "outputs": [
    {
     "name": "stdout",
     "output_type": "stream",
     "text": [
      "60.91954022988506\n"
     ]
    }
   ],
   "source": [
    "GC_count=0\n",
    "for base in seq:\n",
    "    if base == 'C' or base == 'G':\n",
    "        GC_count += 1\n",
    "    else:\n",
    "        pass\n",
    "print(GC_count/len(seq)*100)"
   ]
  },
  {
   "cell_type": "code",
   "execution_count": 57,
   "metadata": {},
   "outputs": [
    {
     "data": {
      "text/plain": [
       "53"
      ]
     },
     "execution_count": 57,
     "metadata": {},
     "output_type": "execute_result"
    }
   ],
   "source": [
    "GC_count"
   ]
  },
  {
   "cell_type": "code",
   "execution_count": 38,
   "metadata": {},
   "outputs": [
    {
     "name": "stdout",
     "output_type": "stream",
     "text": [
      "{'Rosalind_0808': 'CCACCCTCGTGGTATGGCTAGGCATTCAGGAACCGGAGAACGCTTCAGACCAGCCCGGACTGGGAACCTGCGGGCAGTAGGTGGAAT',\n",
      " 'Rosalind_5959': 'CCATCGGTAGCGCATCCTTAGTCCAATTAAGTCCCTATCCAGGCGCTCCGCCGAAGGTCTATATCCATTTGTCAGCAGACACGC',\n",
      " 'Rosalind_6404': 'CCTGCGGAAGATCGGCACTAGAATAGCCAGAACCGTTTCTCTGAGGCTTCCGGCCTTCCCTCCCACTAATAATTCTGAGG'}\n"
     ]
    }
   ],
   "source": [
    "from pprint import pprint as pp\n",
    "file = open('sample_dna','r')\n",
    "gene_dict = {}\n",
    "#seq=''\n",
    "for line in file:\n",
    "    line = line.rstrip('\\n')\n",
    "    if line.startswith('>'):\n",
    "        gene = line[1:]\n",
    "        gene_dict[gene] = ''\n",
    "        seq = ''\n",
    "        #print(line)\n",
    "    else:\n",
    "        seq = seq + line\n",
    "        gene_dict[gene] = seq\n",
    "pp(gene_dict)\n",
    "    "
   ]
  },
  {
   "cell_type": "code",
   "execution_count": 37,
   "metadata": {},
   "outputs": [
    {
     "name": "stdout",
     "output_type": "stream",
     "text": [
      "Rosalind_6404\n",
      "53.75\n",
      "Rosalind_5959\n",
      "53.57142857142857\n",
      "Rosalind_0808\n",
      "60.91954022988506\n"
     ]
    }
   ],
   "source": [
    "gc_count = 0\n",
    "\n",
    "for gene_name,seq in gene_dict.items():\n",
    "    gc_count = seq.count('C') + seq.count('G')\n",
    "    gc_percent = gc_count/len(seq)*100\n",
    "    print(gene_name)\n",
    "    print(gc_percent)"
   ]
  },
  {
   "cell_type": "code",
   "execution_count": 33,
   "metadata": {
    "collapsed": true
   },
   "outputs": [],
   "source": [
    "seq = 'CCTGCGGAAGATCGGCACTAGAATAGCCAGAACCGTTTCTCTGAGGCTTCCGGCCTTCCCTCCCACTAATAATTCTGAGGCCATCGGTAGCGCATCCTTAGTCCAATTAAGTCCCTATCCAGGCGCTCCGCCGAAGGTCTATATCCATTTGTCAGCAGACACGCCCACCCTCGTGGTATGGCTAGGCATTCAGGAACCGGAGAACGCTTCAGACCAGCCCGGACTGGGAACCTGCGGGCAGTAGGTGGAAT'"
   ]
  },
  {
   "cell_type": "code",
   "execution_count": 35,
   "metadata": {},
   "outputs": [
    {
     "data": {
      "text/plain": [
       "0.5617529880478087"
      ]
     },
     "execution_count": 35,
     "metadata": {},
     "output_type": "execute_result"
    }
   ],
   "source": [
    "(seq.count('C')+seq.count('G'))/len(seq)"
   ]
  },
  {
   "cell_type": "code",
   "execution_count": null,
   "metadata": {
    "collapsed": true
   },
   "outputs": [],
   "source": []
  },
  {
   "cell_type": "code",
   "execution_count": 39,
   "metadata": {
    "collapsed": true
   },
   "outputs": [],
   "source": [
    "s1 = 'GAGCCTACTAACGGGAT'\n",
    "s2 = 'CATCGTAATGACGGCCT'"
   ]
  },
  {
   "cell_type": "code",
   "execution_count": 48,
   "metadata": {},
   "outputs": [
    {
     "data": {
      "text/plain": [
       "7"
      ]
     },
     "execution_count": 48,
     "metadata": {},
     "output_type": "execute_result"
    }
   ],
   "source": [
    "\n",
    "different =[ i for i in range(len(s1)) if s1[i] != s2[i]]\n",
    "print(len(different))"
   ]
  },
  {
   "cell_type": "code",
   "execution_count": 42,
   "metadata": {},
   "outputs": [
    {
     "data": {
      "text/plain": [
       "[0, 2, 4, 7, 9, 14, 15]"
      ]
     },
     "execution_count": 42,
     "metadata": {},
     "output_type": "execute_result"
    }
   ],
   "source": [
    "different"
   ]
  },
  {
   "cell_type": "code",
   "execution_count": null,
   "metadata": {
    "collapsed": true
   },
   "outputs": [],
   "source": []
  },
  {
   "cell_type": "code",
   "execution_count": 1,
   "metadata": {
    "collapsed": true
   },
   "outputs": [],
   "source": [
    "seqList = ['TTCAAGCT','TGGCAACT','TTGGATCT','TAGCAACC',\n",
    "           'TTGGAACT','ATGCCATT','ATGGCACT']"
   ]
  },
  {
   "cell_type": "code",
   "execution_count": 5,
   "metadata": {},
   "outputs": [
    {
     "name": "stdout",
     "output_type": "stream",
     "text": [
      "{'A': [0, 0, 0, 0, 0, 0, 0, 0],\n",
      " 'C': [0, 0, 0, 0, 0, 0, 0, 0],\n",
      " 'G': [0, 0, 0, 0, 0, 0, 0, 0],\n",
      " 'T': [0, 0, 0, 0, 0, 0, 0, 0]}\n"
     ]
    }
   ],
   "source": [
    "from pprint import pprint as pp\n",
    "n = len(seqList[0])\n",
    "profile = {'A':[0]*n,'C':[0]*n,'G':[0]*n,'T':[0]*n}\n",
    "pp(profile)"
   ]
  },
  {
   "cell_type": "code",
   "execution_count": 9,
   "metadata": {},
   "outputs": [
    {
     "name": "stdout",
     "output_type": "stream",
     "text": [
      "{'A': [2, 1, 0, 1, 5, 5, 0, 0],\n",
      " 'C': [0, 0, 1, 3, 2, 0, 6, 1],\n",
      " 'G': [0, 1, 6, 3, 0, 1, 0, 0],\n",
      " 'T': [5, 5, 0, 0, 0, 1, 1, 6]}\n"
     ]
    }
   ],
   "source": [
    "for seq in seqList:\n",
    "    for i,base in enumerate(seq):\n",
    "        profile[base][i] += 1\n",
    "pp(profile)"
   ]
  },
  {
   "cell_type": "code",
   "execution_count": 10,
   "metadata": {},
   "outputs": [
    {
     "name": "stdout",
     "output_type": "stream",
     "text": [
      "A : 2 1 0 1 5 5 0 0\n",
      "C : 0 0 1 3 2 0 6 1\n",
      "G : 0 1 6 3 0 1 0 0\n",
      "T : 5 5 0 0 0 1 1 6\n"
     ]
    }
   ],
   "source": [
    "for key, value in profile.items():\n",
    "     print(key,':', \" \".join([str(x) for x in value] ))"
   ]
  },
  {
   "cell_type": "code",
   "execution_count": 14,
   "metadata": {},
   "outputs": [
    {
     "name": "stdout",
     "output_type": "stream",
     "text": [
      "5\n",
      "5\n",
      "6\n",
      "3\n",
      "5\n",
      "5\n",
      "6\n",
      "6\n",
      "[['T', 'T', 'G', 'G', 'A', 'A', 'C', 'T'], ['T', 'T', 'G', 'C', 'A', 'A', 'C', 'T']]\n"
     ]
    }
   ],
   "source": [
    "bestseqs = [[]]\n",
    "for i in range(n):\n",
    "    d = {N:profile[N][i] for N in \"ACGT\"}\n",
    "    m = max(d.values())\n",
    "    l = [N for N in ['T','G','C','A'] if d[N] == m]\n",
    "    bestseqs = [ s+[N] for N in l for s in bestseqs ]\n",
    "print(bestseqs)\n",
    "#for s in bestseqs:\n",
    "#    print(''.join(s))"
   ]
  },
  {
   "cell_type": "code",
   "execution_count": null,
   "metadata": {
    "collapsed": true
   },
   "outputs": [],
   "source": []
  },
  {
   "cell_type": "code",
   "execution_count": 16,
   "metadata": {},
   "outputs": [
    {
     "data": {
      "text/plain": [
       "['ATCCAGCT',\n",
       " 'GGGCAACT',\n",
       " 'ATGGATCT',\n",
       " 'AAGCAACC',\n",
       " 'TTGGAACT',\n",
       " 'ATGCCATT',\n",
       " 'ATGGCACT']"
      ]
     },
     "execution_count": 16,
     "metadata": {},
     "output_type": "execute_result"
    }
   ],
   "source": [
    "get_seq('seq_list_test.txt')"
   ]
  },
  {
   "cell_type": "code",
   "execution_count": null,
   "metadata": {
    "collapsed": true
   },
   "outputs": [],
   "source": [
    "rosalind = OrderedDict()\n",
    "seqLength = 0\n",
    "with open('/Users/DONG/Downloads/rosalind_cons.txt') as f:\n",
    "    for line in f:\n",
    "        line = line.rstrip()\n",
    "        if line.startswith('>'):\n",
    "            rosalindName = line\n",
    "            rosalind[rosalindName] = ''\n",
    "            continue\n",
    "        rosalind[rosalindName] += line\n",
    "    seqLength = len(rosalind[rosalindName])"
   ]
  },
  {
   "cell_type": "code",
   "execution_count": 36,
   "metadata": {
    "collapsed": true
   },
   "outputs": [],
   "source": [
    "from collections import Counter\n",
    "def get_seq(filename):\n",
    "    seq_dict = {}\n",
    "    \n",
    "    f = open(filename,'r')\n",
    "    for line in f:\n",
    "        line = line.rstrip()\n",
    "        if line.startswith('>'):\n",
    "            gene = line\n",
    "            seq_dict[gene] = ''\n",
    "            continue\n",
    "        seq_dict[gene] += line\n",
    "    f.close()\n",
    "    seq_list = list(seq_dict.values()) \n",
    "    return seq_list\n",
    "    "
   ]
  },
  {
   "cell_type": "code",
   "execution_count": 3,
   "metadata": {
    "collapsed": true
   },
   "outputs": [],
   "source": [
    "def seq_profile(seqlist):\n",
    "    n = len(seqlist[0])\n",
    "    profile = {'A':[0]*n,'C':[0]*n,'T':[0]*n,'G':[0]*n}\n",
    "    for seq in seqlist:\n",
    "        for index,base in enumerate(seq):\n",
    "            profile[base][index] +=1\n",
    "    \n",
    "\n",
    "    bestseqs = [[]]\n",
    "    for i in range(n):\n",
    "        d = {N:profile[N][i] for N in \"ACGT\"}\n",
    "        m = max(d.values())\n",
    "        l = [N for N in ['T','G','C','A'] if d[N] == m]\n",
    "        bestseqs = [ s+[N] for N in l for s in bestseqs ]\n",
    "    \n",
    "    for s in bestseqs:\n",
    "        print(''.join(s))\n",
    "        \n",
    "    for key, value in profile.items():\n",
    "        print(key,':', \" \".join([str(x) for x in value] ))\n",
    "    \n",
    "    return"
   ]
  },
  {
   "cell_type": "code",
   "execution_count": 37,
   "metadata": {},
   "outputs": [
    {
     "data": {
      "text/plain": [
       "['ATCCAGCT',\n",
       " 'GGGCAACT',\n",
       " 'ATGGATCT',\n",
       " 'AAGCAACC',\n",
       " 'TTGGAACT',\n",
       " 'ATGCCATT',\n",
       " 'ATGGCACT']"
      ]
     },
     "execution_count": 37,
     "metadata": {},
     "output_type": "execute_result"
    }
   ],
   "source": [
    "get_seq('seq_list_test.txt')"
   ]
  },
  {
   "cell_type": "code",
   "execution_count": 31,
   "metadata": {},
   "outputs": [
    {
     "name": "stdout",
     "output_type": "stream",
     "text": [
      "ATGCAACT\n",
      "A : 5 1 0 0 5 5 0 0\n",
      "C : 0 0 1 4 2 0 6 1\n",
      "T : 1 5 0 0 0 1 1 6\n",
      "G : 1 1 6 3 0 1 0 0\n"
     ]
    }
   ],
   "source": [
    "seq_profile(get_seq('seq_list_test.txt'))"
   ]
  },
  {
   "cell_type": "code",
   "execution_count": null,
   "metadata": {
    "collapsed": true
   },
   "outputs": [],
   "source": []
  },
  {
   "cell_type": "code",
   "execution_count": null,
   "metadata": {
    "collapsed": true
   },
   "outputs": [],
   "source": []
  },
  {
   "cell_type": "code",
   "execution_count": 22,
   "metadata": {},
   "outputs": [
    {
     "name": "stdout",
     "output_type": "stream",
     "text": [
      "TTGGAACT\n",
      "TTGCAACT\n",
      "A : 2 1 0 1 5 5 0 0\n",
      "C : 0 0 1 3 2 0 6 1\n",
      "T : 5 5 0 0 0 1 1 6\n",
      "G : 0 1 6 3 0 1 0 0\n"
     ]
    }
   ],
   "source": [
    "seq_profile(seqList)"
   ]
  },
  {
   "cell_type": "code",
   "execution_count": 29,
   "metadata": {},
   "outputs": [
    {
     "data": {
      "text/plain": [
       "[[2, 1, 0, 1, 5, 5, 0, 0],\n",
       " [0, 0, 1, 3, 2, 0, 6, 1],\n",
       " [0, 1, 6, 3, 0, 1, 0, 0],\n",
       " [5, 5, 0, 0, 0, 1, 1, 6]]"
      ]
     },
     "execution_count": 29,
     "metadata": {},
     "output_type": "execute_result"
    }
   ],
   "source": [
    "list(profile.values())"
   ]
  },
  {
   "cell_type": "code",
   "execution_count": null,
   "metadata": {
    "collapsed": true
   },
   "outputs": [],
   "source": [
    "    seq_dict = {}\n",
    "    \n",
    "    f = open(filename,'r')\n",
    "    for line in f:\n",
    "        line = line.rstrip()\n",
    "        if line.startswith('>'):\n",
    "            gene = line\n",
    "            seq_dict[gene] = ''\n",
    "            continue\n",
    "        seq_dict[gene] += line\n",
    "    f.close()\n",
    "    seq_list = list(seq_dict.values()) "
   ]
  },
  {
   "cell_type": "code",
   "execution_count": 71,
   "metadata": {},
   "outputs": [
    {
     "name": "stdout",
     "output_type": "stream",
     "text": [
      "CAACGCTTGCGCGCTTTTGGAATCCGTATGGAGGAACAGCTTTAGCTGTATCCGAGCTCAGTTGTCCGATTGCGGGGAGGAAGAAGCTGTAACGTCGTGCGAATGGGATAAGAACTACTAATTTCACGGATGTCAGATGCTATCGAGAGATCTGTGTATAATTTCAGTGCAACAAGTCTTAAGGCCCACGTCAGGGATGATTCATCCAAGACTACGCAGCACACCCGTCATTAGAATGCGTAACTTCTCGGGCAAGGTGCAAGTATTAAACCGACGGATACTTCCCAGCAGTTGCGTCCAATGATACCGCAGATTTTAAGCTGTTAACTGTTAAAGTTCGGACGACTCCCAAGCGTAACTCGCTGTGGCCACATGTAGATATGGGAAGCCCCGGCTAACTCTCTTCTTGAAAATTTTTACGCCGGTATCAACTGAGTCGTACCAACGATGCGCAGTTTGTAGCACTCTGTACTATAGTATTTTGGACGATTCGATTCATACTTGGTTCAACGTATGTTTAAGGACTTGAGGAGATGTATGCAAAAACTGCCACTGTAACATAACGTCTCAGCGCTGAGCCTCATTCTATCTTTCATTTAATAAGCCAGAGTATAGCTGAGGAAAGGGGTAGGTCCGGAATTTTGGCCTAGGAAGTTGGTAGAATGAGGTAACAATGCCACGCGCGTACGCTGTGCCCATTGCCGAACCGCTTGCTTATGAAGGCCGCCCTTCCATTCAGTCTCAGAGTCTCAATATAAGGGCTTTCGGCGCTGACTACGTCCTAATGTGCCACACATAAGCTTGAGTTCCGCCCCTCCATAGCCGCACATCCCCAATGCGACCTTACGCAAGTGTTGGGTAATATTACTGAATGCGCGCCATTCGCATACTGGGATTAAGTTACCACGCATGCTAAGGGAACCCCATTGCAGCGTGAGAAGTGCTTAATGAGTAGGCAAAGACTTTTTCACTTCTGGTGGCTGATAGAATTTG\n"
     ]
    }
   ],
   "source": [
    "import numpy as np\n",
    "import os\n",
    "from collections import Counter\n",
    "fhand = open('rosalind_cons.txt')\n",
    "seq_dict = {}\n",
    "for line in fhand:\n",
    "    line = line.rstrip()\n",
    "    if line.startswith('>'):\n",
    "        gene = line\n",
    "        seq_dict[gene] = ''\n",
    "        continue\n",
    "    seq_dict[gene] +=line\n",
    "seq_list = list(seq_dict.values())\n",
    "\n",
    "a = np.array(seq_list)#创建一个二维数组 \n",
    "L1,L2,L3,L4 = [], [], [], []\n",
    "comsquence=''\n",
    "for i in range(len(a[0])):\n",
    "    l = [x[i] for x in a] #调出二维数组的每一列\n",
    "    L1.append(l.count('A'))\n",
    "    L2.append(l.count('C'))\n",
    "    L3.append(l.count('G'))\n",
    "    L4.append(l.count('T'))\n",
    "    comsquence=comsquence+Counter(l).most_common()[0][0]\n",
    "fhand.close()\n",
    "\n",
    "L1 = \" \".join(str(x) for x in L1)\n",
    "L2 = \" \".join(str(x) for x in L2)\n",
    "L3 = \" \".join(str(x) for x in L3)\n",
    "L4 = \" \".join(str(x) for x in L4)\n",
    "print(comsquence)\n",
    "#print('A:',L1,'\\n','C:',L2,'\\n','G:',L3,'\\n','T:',L4) "
   ]
  },
  {
   "cell_type": "code",
   "execution_count": null,
   "metadata": {
    "collapsed": true
   },
   "outputs": [],
   "source": []
  },
  {
   "cell_type": "code",
   "execution_count": 69,
   "metadata": {},
   "outputs": [
    {
     "data": {
      "text/plain": [
       "10"
      ]
     },
     "execution_count": 69,
     "metadata": {},
     "output_type": "execute_result"
    }
   ],
   "source": [
    "len(a)"
   ]
  },
  {
   "cell_type": "code",
   "execution_count": null,
   "metadata": {
    "collapsed": true
   },
   "outputs": [],
   "source": []
  },
  {
   "cell_type": "markdown",
   "metadata": {},
   "source": [
    "## Finding a Shared Motif "
   ]
  },
  {
   "cell_type": "code",
   "execution_count": 2,
   "metadata": {
    "collapsed": true
   },
   "outputs": [],
   "source": [
    "seq_list = ['GATTACA','TAGACCA','ATACA']"
   ]
  },
  {
   "cell_type": "code",
   "execution_count": 37,
   "metadata": {
    "collapsed": true
   },
   "outputs": [],
   "source": [
    "def get_file(filename):\n",
    "\tfhand = open(filename,'r')\n",
    "\tseq_dict = {}\n",
    "\tfor line in fhand:\n",
    "\t    line = line.rstrip()\n",
    "\t    if line.startswith('>'):\n",
    "\t        gene = line\n",
    "\t        seq_dict[gene] = ''\n",
    "\t        continue\n",
    "\t    seq_dict[gene] +=line\n",
    "\tseq_list = list(seq_dict.values())\n",
    "\n",
    "\t\n",
    "\t#print(len(a)) \n",
    "\tfhand.close()\n",
    "\treturn seq_list\n",
    "\n",
    "def lcs(strings):\n",
    "    \n",
    "    short_string = strings[0]\n",
    "    other_strings = strings[1:]\n",
    "\n",
    "    l = len(short_string)\n",
    "    m = ''\n",
    "    for i in range(0, l):\n",
    "        for j in range(l, i + len(m),-1):\n",
    "            \n",
    "            s1 = short_string[i:j]\n",
    "            \n",
    "            matched_all = True\n",
    "            for s2 in other_strings:\n",
    "                if s1 not in s2:\n",
    "                    matched_all = False\n",
    "                    break\n",
    "\n",
    "            if matched_all:\n",
    "                m = s1\n",
    "                print(m)\n",
    "                break\n",
    "\n",
    "    return m"
   ]
  },
  {
   "cell_type": "code",
   "execution_count": 38,
   "metadata": {},
   "outputs": [
    {
     "name": "stdout",
     "output_type": "stream",
     "text": [
      "A\n",
      "TA\n"
     ]
    },
    {
     "data": {
      "text/plain": [
       "'TA'"
      ]
     },
     "execution_count": 38,
     "metadata": {},
     "output_type": "execute_result"
    }
   ],
   "source": [
    "lcs(seq_list)"
   ]
  },
  {
   "cell_type": "code",
   "execution_count": null,
   "metadata": {
    "collapsed": true
   },
   "outputs": [],
   "source": []
  },
  {
   "cell_type": "code",
   "execution_count": null,
   "metadata": {
    "collapsed": true
   },
   "outputs": [],
   "source": []
  },
  {
   "cell_type": "code",
   "execution_count": null,
   "metadata": {
    "collapsed": true
   },
   "outputs": [],
   "source": []
  },
  {
   "cell_type": "code",
   "execution_count": null,
   "metadata": {
    "collapsed": true
   },
   "outputs": [],
   "source": []
  },
  {
   "cell_type": "code",
   "execution_count": null,
   "metadata": {
    "collapsed": true
   },
   "outputs": [],
   "source": []
  }
 ],
 "metadata": {
  "kernelspec": {
   "display_name": "Python 3",
   "language": "python",
   "name": "python3"
  },
  "language_info": {
   "codemirror_mode": {
    "name": "ipython",
    "version": 3
   },
   "file_extension": ".py",
   "mimetype": "text/x-python",
   "name": "python",
   "nbconvert_exporter": "python",
   "pygments_lexer": "ipython3",
   "version": "3.6.2"
  }
 },
 "nbformat": 4,
 "nbformat_minor": 2
}
